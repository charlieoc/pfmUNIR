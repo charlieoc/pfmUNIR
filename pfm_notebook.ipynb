{
 "cells": [
  {
   "cell_type": "markdown",
   "metadata": {
    "pycharm": {
     "name": "#%% md\n"
    }
   },
   "source": [
    "# Desarrollo\n",
    "\n",
    "A continuación, se presenta el avance que se tiene en la creación del prototipo para la aplicación de análisis de sentimiento a las conferencias de prensa, esta sección ha sido desarrollada por medio de la tecnología “Jupyter Notebook” que permite integrar texto y código en un mismo documento. El código está identificado con un tipo diferente de letra y se han mantenido los comentarios, identificados en color azul y por iniciar con el signo “#”. \n",
    "\n",
    "Se hace uso de una librería llamada Dynaconf para guardar los datos de configuración en un archivo “.env” separado. Esto facilita que, si alguien más desea ejecutar el código en una computadora diferente, únicamente sea necesario modificar el contenido de ese archivo y no todo el código.\n",
    "\n",
    "Iniciamos por abrir el archivo para leer su contenido.\n"
   ]
  },
  {
   "cell_type": "code",
   "execution_count": 1,
   "metadata": {
    "pycharm": {
     "name": "#%%\n"
    }
   },
   "outputs": [],
   "source": [
    "import pandas as pd\n",
    "from dynaconf import Dynaconf\n",
    "\n",
    "# Obtener archivo de texto a utilizar como fuente\n",
    "settings = Dynaconf(load_dotenv=True, envvar_prefix=\"PFM\")\n",
    "\n",
    "abrir_archivo = settings.FILE\n",
    "\n",
    "with open(abrir_archivo, 'r', encoding=\"UTF-8\") as file:\n",
    "    text = file.read()"
   ]
  },
  {
   "cell_type": "markdown",
   "metadata": {},
   "source": [
    "Una vez que tenemos el archivo disponible se realizan otras tareas de limpieza, las cuales están indicadas en los comentarios del código."
   ]
  },
  {
   "cell_type": "code",
   "execution_count": 2,
   "metadata": {
    "pycharm": {
     "is_executing": true,
     "name": "#%%\n"
    }
   },
   "outputs": [],
   "source": [
    "import string\n",
    "from nltk import word_tokenize\n",
    "from nltk.corpus import stopwords\n",
    "\n",
    "# Separar palabras\n",
    "tokens = word_tokenize(text)\n",
    "\n",
    "# Transformar a minúsculas\n",
    "tokens = [w.lower() for w in tokens]\n",
    "\n",
    "# Quitar puntuación\n",
    "table = str.maketrans('', '', string.punctuation)\n",
    "stripped = [w.translate(table) for w in tokens]\n",
    "\n",
    "# Quitar otros caracteres no alfanuméricos\n",
    "words = [word for word in stripped if word.isalpha()]\n",
    "\n",
    "# Quitar palabras comunes (stop words)\n",
    "stop_words = stopwords.words('spanish')\n",
    "\n",
    "# Agregar palabras que se pueden considerar superfluas y que no están en el paquete de stopwords\n",
    "personal_words = ['si','mas', 'buenos', 'buenas', 'días', 'gracias', 'señor', 'presidente', 'así']\n",
    "\n",
    "stop_words = stop_words + personal_words\n",
    "\n",
    "words = [w for w in words if not w in stop_words]\n"
   ]
  },
  {
   "cell_type": "markdown",
   "metadata": {},
   "source": [
    "Al finalizar las operaciones de limpieza, una de las cosas que podemos hacer es determinar la distribución de frecuencia de las palabras en el texto y graficar las palabras más comunes."
   ]
  },
  {
   "cell_type": "code",
   "execution_count": 3,
   "metadata": {
    "pycharm": {
     "is_executing": true,
     "name": "#%%\n"
    }
   },
   "outputs": [],
   "source": [
    "from nltk.probability import FreqDist\n",
    "\n",
    "# Obtener la frecuencia de las palabras\n",
    "freq_dist = FreqDist(words)\n",
    "\n",
    "df = pd.DataFrame(list(freq_dist.items()), columns = [\"Word\",\"Frequency\"])"
   ]
  },
  {
   "cell_type": "markdown",
   "metadata": {
    "pycharm": {
     "name": "#%% md\n"
    }
   },
   "source": [
    "Antes de realizar la gráfica, se procede a mostrar la lista de palabras junto con el número de veces que aparece."
   ]
  },
  {
   "cell_type": "code",
   "execution_count": 4,
   "metadata": {
    "pycharm": {
     "is_executing": true,
     "name": "#%%\n"
    }
   },
   "outputs": [
    {
     "data": {
      "text/html": [
       "<div>\n",
       "<style scoped>\n",
       "    .dataframe tbody tr th:only-of-type {\n",
       "        vertical-align: middle;\n",
       "    }\n",
       "\n",
       "    .dataframe tbody tr th {\n",
       "        vertical-align: top;\n",
       "    }\n",
       "\n",
       "    .dataframe thead th {\n",
       "        text-align: right;\n",
       "    }\n",
       "</style>\n",
       "<table border=\"1\" class=\"dataframe\">\n",
       "  <thead>\n",
       "    <tr style=\"text-align: right;\">\n",
       "      <th></th>\n",
       "      <th>Word</th>\n",
       "      <th>Frequency</th>\n",
       "    </tr>\n",
       "  </thead>\n",
       "  <tbody>\n",
       "    <tr>\n",
       "      <th>958</th>\n",
       "      <td>entonces</td>\n",
       "      <td>14798</td>\n",
       "    </tr>\n",
       "    <tr>\n",
       "      <th>11</th>\n",
       "      <td>vamos</td>\n",
       "      <td>14227</td>\n",
       "    </tr>\n",
       "    <tr>\n",
       "      <th>139</th>\n",
       "      <td>va</td>\n",
       "      <td>14191</td>\n",
       "    </tr>\n",
       "    <tr>\n",
       "      <th>78</th>\n",
       "      <td>méxico</td>\n",
       "      <td>12792</td>\n",
       "    </tr>\n",
       "    <tr>\n",
       "      <th>194</th>\n",
       "      <td>mil</td>\n",
       "      <td>12488</td>\n",
       "    </tr>\n",
       "    <tr>\n",
       "      <th>425</th>\n",
       "      <td>gobierno</td>\n",
       "      <td>9380</td>\n",
       "    </tr>\n",
       "    <tr>\n",
       "      <th>748</th>\n",
       "      <td>aquí</td>\n",
       "      <td>9213</td>\n",
       "    </tr>\n",
       "    <tr>\n",
       "      <th>131</th>\n",
       "      <td>ahora</td>\n",
       "      <td>7475</td>\n",
       "    </tr>\n",
       "    <tr>\n",
       "      <th>67</th>\n",
       "      <td>caso</td>\n",
       "      <td>7434</td>\n",
       "    </tr>\n",
       "    <tr>\n",
       "      <th>68</th>\n",
       "      <td>ver</td>\n",
       "      <td>7383</td>\n",
       "    </tr>\n",
       "    <tr>\n",
       "      <th>19</th>\n",
       "      <td>país</td>\n",
       "      <td>6848</td>\n",
       "    </tr>\n",
       "    <tr>\n",
       "      <th>314</th>\n",
       "      <td>dos</td>\n",
       "      <td>6573</td>\n",
       "    </tr>\n",
       "    <tr>\n",
       "      <th>133</th>\n",
       "      <td>ahí</td>\n",
       "      <td>6235</td>\n",
       "    </tr>\n",
       "    <tr>\n",
       "      <th>706</th>\n",
       "      <td>millones</td>\n",
       "      <td>6234</td>\n",
       "    </tr>\n",
       "    <tr>\n",
       "      <th>217</th>\n",
       "      <td>hacer</td>\n",
       "      <td>6031</td>\n",
       "    </tr>\n",
       "    <tr>\n",
       "      <th>1142</th>\n",
       "      <td>ser</td>\n",
       "      <td>6018</td>\n",
       "    </tr>\n",
       "    <tr>\n",
       "      <th>149</th>\n",
       "      <td>pues</td>\n",
       "      <td>5933</td>\n",
       "    </tr>\n",
       "    <tr>\n",
       "      <th>1308</th>\n",
       "      <td>salud</td>\n",
       "      <td>5924</td>\n",
       "    </tr>\n",
       "    <tr>\n",
       "      <th>216</th>\n",
       "      <td>nacional</td>\n",
       "      <td>5906</td>\n",
       "    </tr>\n",
       "    <tr>\n",
       "      <th>1077</th>\n",
       "      <td>van</td>\n",
       "      <td>5889</td>\n",
       "    </tr>\n",
       "    <tr>\n",
       "      <th>0</th>\n",
       "      <td>bueno</td>\n",
       "      <td>5882</td>\n",
       "    </tr>\n",
       "    <tr>\n",
       "      <th>907</th>\n",
       "      <td>usted</td>\n",
       "      <td>5626</td>\n",
       "    </tr>\n",
       "    <tr>\n",
       "      <th>46</th>\n",
       "      <td>pesos</td>\n",
       "      <td>5448</td>\n",
       "    </tr>\n",
       "    <tr>\n",
       "      <th>28</th>\n",
       "      <td>tema</td>\n",
       "      <td>5401</td>\n",
       "    </tr>\n",
       "    <tr>\n",
       "      <th>806</th>\n",
       "      <td>gente</td>\n",
       "      <td>5269</td>\n",
       "    </tr>\n",
       "    <tr>\n",
       "      <th>331</th>\n",
       "      <td>ciento</td>\n",
       "      <td>5175</td>\n",
       "    </tr>\n",
       "    <tr>\n",
       "      <th>767</th>\n",
       "      <td>manera</td>\n",
       "      <td>5063</td>\n",
       "    </tr>\n",
       "    <tr>\n",
       "      <th>243</th>\n",
       "      <td>tener</td>\n",
       "      <td>5057</td>\n",
       "    </tr>\n",
       "    <tr>\n",
       "      <th>25</th>\n",
       "      <td>importante</td>\n",
       "      <td>5056</td>\n",
       "    </tr>\n",
       "    <tr>\n",
       "      <th>1100</th>\n",
       "      <td>puede</td>\n",
       "      <td>4946</td>\n",
       "    </tr>\n",
       "  </tbody>\n",
       "</table>\n",
       "</div>"
      ],
      "text/plain": [
       "            Word  Frequency\n",
       "958     entonces      14798\n",
       "11         vamos      14227\n",
       "139           va      14191\n",
       "78        méxico      12792\n",
       "194          mil      12488\n",
       "425     gobierno       9380\n",
       "748         aquí       9213\n",
       "131        ahora       7475\n",
       "67          caso       7434\n",
       "68           ver       7383\n",
       "19          país       6848\n",
       "314          dos       6573\n",
       "133          ahí       6235\n",
       "706     millones       6234\n",
       "217        hacer       6031\n",
       "1142         ser       6018\n",
       "149         pues       5933\n",
       "1308       salud       5924\n",
       "216     nacional       5906\n",
       "1077         van       5889\n",
       "0          bueno       5882\n",
       "907        usted       5626\n",
       "46         pesos       5448\n",
       "28          tema       5401\n",
       "806        gente       5269\n",
       "331       ciento       5175\n",
       "767       manera       5063\n",
       "243        tener       5057\n",
       "25    importante       5056\n",
       "1100       puede       4946"
      ]
     },
     "execution_count": 4,
     "metadata": {},
     "output_type": "execute_result"
    }
   ],
   "source": [
    "# Mostrar las 30 más usadas con su número de apariciones\n",
    "df.sort_values('Frequency', ascending=False).head(30)"
   ]
  },
  {
   "cell_type": "markdown",
   "metadata": {
    "pycharm": {
     "name": "#%% md\n"
    }
   },
   "source": [
    "Y después se realiza la gráfica."
   ]
  },
  {
   "cell_type": "code",
   "execution_count": 20,
   "metadata": {
    "pycharm": {
     "is_executing": true,
     "name": "#%%\n"
    }
   },
   "outputs": [
    {
     "data": {
      "image/png": "[encoded data removed]",
      "text/plain": [
       "<Figure size 432x288 with 1 Axes>"
      ]
     },
     "metadata": {
      "needs_background": "light"
     },
     "output_type": "display_data"
    },
    {
     "data": {
      "text/plain": [
       "<AxesSubplot:xlabel='Samples', ylabel='Counts'>"
      ]
     },
     "execution_count": 20,
     "metadata": {},
     "output_type": "execute_result"
    }
   ],
   "source": [
    "# Graficar las 30 más utilizadas\n",
    "freq_dist.plot(30, cumulative=False, color=\"#4f5d75\")"
   ]
  },
  {
   "cell_type": "markdown",
   "metadata": {},
   "source": [
    "Otra actividad que podemos hacer es localizar los “ngrams” más comunes. Un “ngram” es un grupo de 2 o más palabras y nltk ofrece funciones para localizar los grupos de 2, 3 y 4 palabras.\n",
    "\n",
    "Grupos de 2 palabras o “bigrams”:"
   ]
  },
  {
   "cell_type": "code",
   "execution_count": 21,
   "metadata": {
    "pycharm": {
     "is_executing": true,
     "name": "#%%\n"
    }
   },
   "outputs": [
    {
     "name": "stdout",
     "output_type": "stream",
     "text": [
      "    ('mil', 'millones')   ('millones', 'pesos')    ('ciudad', 'méxico') ('guardia', 'nacional')   ('pesos', 'centavos') \n",
      "                   2594                    2278                    1801                    1657                    1574 \n"
     ]
    }
   ],
   "source": [
    "import nltk.collocations as nc\n",
    "\n",
    "bigram_finder = nc.BigramCollocationFinder.from_words(words)\n",
    "bigram_finder.ngram_fd.most_common(5)\n",
    "bigram_finder.ngram_fd.tabulate(5)"
   ]
  },
  {
   "cell_type": "markdown",
   "metadata": {
    "pycharm": {
     "name": "#%% md\n"
    }
   },
   "source": [
    "Grupos de 3 palabras o “trigrams”"
   ]
  },
  {
   "cell_type": "code",
   "execution_count": 22,
   "metadata": {
    "pycharm": {
     "is_executing": true,
     "name": "#%%\n"
    }
   },
   "outputs": [
    {
     "name": "stdout",
     "output_type": "stream",
     "text": [
      "           ('mil', 'millones', 'pesos') ('comisión', 'federal', 'electricidad')          ('pesos', 'centavos', 'litro')    ('fiscalía', 'general', 'república')          ('mil', 'millones', 'dólares') \n",
      "                                   1481                                     665                                     518                                     500                                     342 \n"
     ]
    }
   ],
   "source": [
    "trigram_finder = nc.TrigramCollocationFinder.from_words(words)\n",
    "trigram_finder.ngram_fd.most_common(5)\n",
    "trigram_finder.ngram_fd.tabulate(5)"
   ]
  },
  {
   "cell_type": "markdown",
   "metadata": {
    "pycharm": {
     "name": "#%% md\n"
    }
   },
   "source": [
    "Grupos de 4 palabras o “quadgrams”"
   ]
  },
  {
   "cell_type": "code",
   "execution_count": 23,
   "metadata": {
    "pycharm": {
     "is_executing": true,
     "name": "#%%\n"
    }
   },
   "outputs": [
    {
     "name": "stdout",
     "output_type": "stream",
     "text": [
      "     ('andrés', 'manuel', 'lópez', 'obrador')      ('pesos', 'centavos', 'litro', 'margen') ('instituto', 'mexicano', 'seguro', 'social')           ('dos', 'mil', 'millones', 'pesos')    ('precio', 'público', 'pesos', 'centavos') \n",
      "                                          242                                           236                                           145                                           127                                           116 \n"
     ]
    }
   ],
   "source": [
    "quadgram_finder = nc.QuadgramCollocationFinder.from_words(words)\n",
    "quadgram_finder.ngram_fd.most_common(5)\n",
    "quadgram_finder.ngram_fd.tabulate(5)"
   ]
  },
  {
   "cell_type": "markdown",
   "metadata": {
    "pycharm": {
     "name": "#%% md\n"
    }
   },
   "source": [
    "Lo anterior, aunque nos da información sobre el texto, no es precisamente análisis de sentimiento, que es el objetivo planteado. Para comenzar con ello se utilizará una librería de Python con un modelo de análisis de sentimiento previamente entrenado."
   ]
  },
  {
   "cell_type": "code",
   "execution_count": 24,
   "metadata": {
    "pycharm": {
     "is_executing": true,
     "name": "#%%\n"
    }
   },
   "outputs": [],
   "source": [
    "from sentiment_analysis_spanish import sentiment_analysis\n",
    "from nltk import sent_tokenize\n",
    "\n",
    "# Generamos una variable para el modelo de análisis de sentimiento\n",
    "sentiment = sentiment_analysis.SentimentAnalysisSpanish()\n",
    "\n",
    "# Separamos el texto en frases\n",
    "sentencias = sent_tokenize(text)\n",
    "\n",
    "# Variable para almacenar el análisis de sentimiento por frase\n",
    "prob_sentimiento = []\n",
    "\n",
    "for s in sentencias:\n",
    "    prob_sentimiento.append([sentiment.sentiment(s), s])\n",
    "\n",
    "# Convertir a dataframe y ordenar análisis de sentimiento de positivo a negativo\n",
    "df = pd.DataFrame(prob_sentimiento, columns=['sentimiento', 'frase']).sort_values(by='sentimiento', ascending=False)"
   ]
  },
  {
   "cell_type": "markdown",
   "metadata": {},
   "source": [
    "Como último paso durante la aplicación del modelo se han cargado los resultados en un DataFrame de Pandas, lo cual permite realizar otras actividades de análisis sobre lo obtenido.\n",
    "\n",
    "Primero podemos describir lo que contiene el DataFrame:"
   ]
  },
  {
   "cell_type": "code",
   "execution_count": 25,
   "metadata": {},
   "outputs": [
    {
     "data": {
      "text/html": [
       "<div>\n",
       "<style scoped>\n",
       "    .dataframe tbody tr th:only-of-type {\n",
       "        vertical-align: middle;\n",
       "    }\n",
       "\n",
       "    .dataframe tbody tr th {\n",
       "        vertical-align: top;\n",
       "    }\n",
       "\n",
       "    .dataframe thead th {\n",
       "        text-align: right;\n",
       "    }\n",
       "</style>\n",
       "<table border=\"1\" class=\"dataframe\">\n",
       "  <thead>\n",
       "    <tr style=\"text-align: right;\">\n",
       "      <th></th>\n",
       "      <th>sentimiento</th>\n",
       "    </tr>\n",
       "  </thead>\n",
       "  <tbody>\n",
       "    <tr>\n",
       "      <th>count</th>\n",
       "      <td>1.934050e+05</td>\n",
       "    </tr>\n",
       "    <tr>\n",
       "      <th>mean</th>\n",
       "      <td>1.013001e-01</td>\n",
       "    </tr>\n",
       "    <tr>\n",
       "      <th>std</th>\n",
       "      <td>2.038487e-01</td>\n",
       "    </tr>\n",
       "    <tr>\n",
       "      <th>min</th>\n",
       "      <td>1.795110e-45</td>\n",
       "    </tr>\n",
       "    <tr>\n",
       "      <th>25%</th>\n",
       "      <td>4.534079e-06</td>\n",
       "    </tr>\n",
       "    <tr>\n",
       "      <th>50%</th>\n",
       "      <td>1.979741e-03</td>\n",
       "    </tr>\n",
       "    <tr>\n",
       "      <th>75%</th>\n",
       "      <td>7.895718e-02</td>\n",
       "    </tr>\n",
       "    <tr>\n",
       "      <th>max</th>\n",
       "      <td>1.000000e+00</td>\n",
       "    </tr>\n",
       "  </tbody>\n",
       "</table>\n",
       "</div>"
      ],
      "text/plain": [
       "        sentimiento\n",
       "count  1.934050e+05\n",
       "mean   1.013001e-01\n",
       "std    2.038487e-01\n",
       "min    1.795110e-45\n",
       "25%    4.534079e-06\n",
       "50%    1.979741e-03\n",
       "75%    7.895718e-02\n",
       "max    1.000000e+00"
      ]
     },
     "execution_count": 25,
     "metadata": {},
     "output_type": "execute_result"
    }
   ],
   "source": [
    "df.describe()"
   ]
  },
  {
   "cell_type": "markdown",
   "metadata": {
    "pycharm": {
     "name": "#%% md\n"
    }
   },
   "source": [
    "La función utilizada nos devuelve información sobre la columna \"sentimiento\" que es la que contiene valores numéricos. Se muestran el total de registros, los valores mínimo y máximo, la media y la desviación estándar y los valores en donde se concentran el 25%, 50% y 75% de los registros.\n",
    "\n",
    "Posteriormente, la información almacenada en el DataFrame se puede mostrar en formato tabular. En este caso, como ya se ha mencionado, la columna “sentimiento” contiene valores numéricos, estos están distribuidos entre 0 y 1. Los que más se acercan a 1, corresponden con sentimiento positivo y los que se acercan más a 0 con sentimiento negativo.\n",
    "\n",
    "Primero se muestran los 15 registros con los valores más altos y podemos observar que todos ellos tienen el valor 1, es decir que su sentimiento se analiza como completamente positivo.\n"
   ]
  },
  {
   "cell_type": "code",
   "execution_count": 7,
   "metadata": {
    "pycharm": {
     "is_executing": true,
     "name": "#%%\n"
    }
   },
   "outputs": [
    {
     "name": "stdout",
     "output_type": "stream",
     "text": [
      " sentimiento                                                                                                                                                                                                                                                                                                                                                                                                                                                                                                                                                                                                                                                                                                                                                                                                                                                                                                                                     frase\n",
      "         1.0                                                                                                                                                                                                                                                                                                                                                                                                                                                                                                                                                                                                                      Es muy importante señalar que este campo está muy cerca de infraestructura que ya se tiene instalada, muy cerca de un campo que fue campeón productor en Tabasco, se llama Jujo–Tecominoacán, está muy cerca de baterías de separación de aceite y gas y muy cerca de los ductos para transportar los hidrocarburos.\n",
      "         1.0                                                                                                                                                                                                                                                                                                                                                                                                                                                                  Vamos a poder llegar al aeropuerto ‘Felipe Ángeles’ desde el centro de la ciudad porque se va a ampliar el tren de Lechería hasta la base aérea, hasta el aeropuerto ‘Felipe Ángeles’ y se está trabajando en la construcción de nuevas vías de comunicación del aeropuerto actual ‘Benito Juárez’ al aeropuerto ‘Felipe Ángeles’ y también toda la comunicación del norte de la ciudad, todo lo que significa ahí de Indios Verdes a Pachuca pasando por el aeropuerto.\n",
      "         1.0                                                                                                                                                                                                                                                                                                                                                                                                                                                                                                                                                                                                                                                                                                                                                       Se va a poder ir desde el centro hasta el aeropuerto y ya se está avanzando para la construcción del tren, se va a llegar en tren desde el centro de la ciudad hasta el aeropuerto.\n",
      "         1.0                                                                                                                                                                                                                                                                                                                                                                                                    Visitamos la ciudad de Mérida y ahí, además de una conferencia de prensa, recorrimos una plaza con establecimientos tradicionales de gran… de larga data en la ciudad; en la ciudad de Guadalajara recorrimos el centro histórico, con gran afluencia de consumidores y también estuvimos en una plaza comercial; y finalmente el lunes, el último día del Buen Fin, estuvimos en la ciudad de Monterrey y San Pedro, que son dos municipios conurbados, para también ver cómo se desarrollaba El Buen Fin en el estado de Nuevo León.\n",
      "         1.0                                                                                                                                                                                                                                                                                                                                                                                                                                                                                                                                                  Y por primera vez estamos trabajando de manera coordinada con la jefa de Gobierno, con la doctora Claudia Sheinbaum, para poder tanto tener personal de la Secretaría de Seguridad del estado en el centro de mando de la Ciudad de México, como personal de la Secretaría de Seguridad de la Ciudad de México en el centro de mando del estado, poder cruzar los límites territoriales.\n",
      "         1.0                                                                                                                                                                                                                                                                                                                                                                                                                                                                                                                                                                                                                                                                                                                        Significaría desde el Aeropuerto Internacional de la Ciudad de México Benito Juárez hacia la estación Pantitlán del Metro, Periférico Oriente y la interconexión hacia el Estado de México y su sistema carretero.\n",
      "         1.0                                                                                                                                                                                                                                                                                                                                                                                                                                                                                                                                                                                                                                                                                                                                                                                                                                 Estamos en el centro de la transformación y hoy en nuestro país en el centro de la Cuarta Transformación.\n",
      "         1.0                                                                                                                                                                                                                                                                                                                                                                                                                                                                                                                                                                                               Lo segundo es la conectividad, es decir, cómo se va a llegar al aeropuerto, todas las vialidades, todo el plan para ir del actual aeropuerto a Santa Lucía, para ir del centro de la ciudad a Santa Lucía, para ir incluso de Toluca al actual aeropuerto y del actual aeropuerto a Santa Lucía, todas las obras viales están contempladas.\n",
      "         1.0                                                                                                                                                                                                                                                                                                                                                                                                                                                                                                                                                                                                                                                                                                                                                                                                                                   El primero es poniendo a las familias en el centro de las discusiones y en el centro de las decisiones.\n",
      "         1.0                                                                                                                                                                                                                                                                                                                                                                                                                                                                                                                                                                                                                                                                                                                                 Esto en seis refinerías en 39 terminales de almacenamiento y despacho en 12 estaciones de rebombeo en el Centro de Control México, el Scada y en 58 instalaciones en 19 estados y en la Ciudad de México.\n",
      "         1.0                                                                                                                                                                                                                                                                                                                                                                                                                                                                                                                                                                                                                                                                                                                         En Venezuela la epidemia es pequeña, se ha aminorado mucho a pesar de que Venezuela está muy cerca de Colombia, donde la epidemia es muy fuerte, y está muy cerca de Ecuador donde la epidemia está avasalladora.\n",
      "         1.0                                                                                                                                                                                                                                                                                                                                                                                                                                                                                                                                                                                                                            A las 10:00 de la mañana del mismo viernes nos trasladamos a la calle de Madero, aquí a unas cuadras, a un par de cuadras de Palacio Nacional, para dar otro arranque con las autoridades de la Ciudad de México, para dar también este arranque en una de las calles de mayor consumo en la Ciudad de México.\n",
      "         1.0                                                                                                                                                                                                                                                                                                                                                                                                                                                                                                                                                                                                                                                                                                                     La siguiente tiene que ver con la promoción del transporte público, movilidad integrada, con una inversión también muy importante en cablebuses, trolebuses, transporte limpio para la ciudad, en transporte público.\n",
      "         1.0                                                                                                                                                                                                                                                                                                                                                                                                                                                                                       Se construyeron esos dos grandes edificios, que los hizo el arquitecto -también finado- Legorreta, donde está Relaciones Exteriores y está también el Poder Judicial de la Ciudad de México, ahí hay un mural de Siqueiros que se recuperó en esa plaza; está también el centro Museo de la Tolerancia, se reconstruyó el templo colonial y en el centro se construyó la fuente, que es muy bonita, muy bella de Vicente Rojo, que en paz descanse.\n",
      "         1.0 Tenemos a Vicente Yáñez, de la ANTAD; José Manuel López Campos, de Concanaco-Servytur; Francisco Cervantes Díaz, de Concamin; Antonio del Valle Perochena, del Consejo Mexicano de Negocios; José Antonio Peña Merino, Pepe Merino, de la Ciudad de México; Bosco de la Vega, presidente del Consejo Nacional Agropecuario; Eduardo Ramírez Leal, presidente de la Cámara Mexicana de la Industria de la Construcción; también muy importante por este anuncio que se hace de la Ventanilla Única de Construcción, un trabajo en conjunto también con la Comisión Nacional de Mejora Regulatoria; Eduardo Daniel Contreras Pérez, presidente de la Cámara de Comercio, Servicios y Turismo en Pequeño de la Ciudad de México; Nathan Poplawsky, presidente de la Cámara de Comercio de Servicios y Turismo de la Ciudad de México; José Manuel Sánchez Carranco, vicepresidente Nacional de Transparencia y Anticorrupción de Canacintra.\n"
     ]
    }
   ],
   "source": [
    "print(df.head(n=15).to_string(index=False))"
   ]
  },
  {
   "cell_type": "markdown",
   "metadata": {
    "pycharm": {
     "name": "#%% md\n"
    }
   },
   "source": [
    "A continuación, se muestran los últimos 15 registros, que corresponden a los que tienen valores más cercanos a 0 o un sentimiento muy negativo, en este caso el sentimiento incluso esta expresado en notación exponencial debido a que son valores muy pequeños. \n",
    "\n",
    "También es importante señalar que, debido a la función utilizada y a diferencia de los 15 primeros registros, el último registro es el que tiene la calificación más baja.\n"
   ]
  },
  {
   "cell_type": "code",
   "execution_count": 8,
   "metadata": {
    "pycharm": {
     "is_executing": true,
     "name": "#%%\n"
    }
   },
   "outputs": [
    {
     "name": "stdout",
     "output_type": "stream",
     "text": [
      " sentimiento                                                                                                                                                                                                                                                                                                                                                                                                                                                                                                                                                                                                                                                                                                                                                                                                                                                                                                                                                                                                                                                                    frase\n",
      "1.285722e-35                                                                                                                                                                                                                                                                                                                                                           Ayer hablaba yo de que, independientemente de la investigación y de que se conozca la verdad, que es algo muy importante… Porque la justicia no sólo es castigar, la justicia es prevenir, es evitar la repetición, la justicia es el que se pueda juzgar a quienes cometen actos de corrupción en el tribunal ciudadano, en el tribunal del pueblo, que se vaya estigmatizando la corrupción, que no sea un asunto nada más de los recovecos de las oficinas de los pasillos de los juzgados o de los poderes, sino que sea asunto ventilado públicamente para que dé vergüenza, porque el peor de los males es que se cometían actos de corrupción y los responsables ni siquiera perdían su respetabilidad.\n",
      "4.642248e-36                                                                                                                                                                                                                                                                                                                     Ánimo\\nVamos el día de hoy, como se acordó, a presentar el plan de salud con énfasis en el Instituto de Salud para el Bienestar, que se traduce en el mandato constitucional de que los mexicanos, todos, mujeres, hombres, todos los mexicanos que no tienen seguridad social, para decirlo de manera sencilla, que no tienen Issste, que no tiene IMSS, que no tienen el servicio médico militar, que no tienen el servicio médico de Pemex, que no tienen la seguridad social, que es la mayoría de los mexicanos, es más de la mitad de los mexicanos, que no tienen seguridad social, van a contar con seguridad médica y medicamentos gratuitos; se les va a garantizar ese derecho, para eso se creó el Instituto de Salud para el Bienestar.\n",
      "1.096751e-36                                    Cuando se traiciona a Madero, cuando se le apresa aquí en Palacio, la llamada Decena Trágica, que no es decena, es quincena trágica, porque también la historia se ha hecho a la conveniencia de los potentados y se están corrigiendo ahora esas cosas con la nueva historia, no sólo por nosotros, eso lo han venido planteando durante mucho tiempo los historiadores y ya por eso en vez de decena trágica se habla de quincena trágica-desde que inicia la traición hasta que Huerta ordena el asesinato del presidente Madero y del vicepresidente Pino Suárez\\nEntonces, cuando se comete esa canallada, ese asesinato lamentable, que es de los momentos más tristes de la historia de México, que ha habido otros desde luego, desde que Cortés asesina a Cuauhtémoc allá en Tabasco, por Tenosique, ya cerca de los límites con Guatemala, así ha habido otros, este asesinato también muy reprobable porque se le quitó la vida a un hombre bueno, un idealista que quería establecer una auténtica democracia en el país.\n",
      "7.776423e-37 Yo considero que un punto muy, muy relevante es que todas, todas las pruebas, estamos hablando de más de una decena de vacunas que han cumplido inclusive con la fase 3, la fase donde se ha probado, como ustedes saben, desde laboratorio, animales, individuos sanos, ensayos en condiciones reales, pero ligadas, sí, y no a edad, a comorbilidades, etcétera y no ha habido…\\nEsto es sorprendente, hay que destacarlo, como yo ayer destaqué que la vacuna en el tiempo en que se ha logrado es una cosa inédita, nadie esperaba que en menos de un año y en menos de un año de estudio se tiene no sólo una, sino 13 vacunas, el número acaba de cambiar, que ya están listas para poderse -están en fase 3, terminando algunas de ellas- para poderse agregar a la lista que es la real, la concreta, que es la que ha señalado el canciller y que nosotros tenemos que apoyar eso, porque es una necesidad social, una necesidad de salud y una necesidad inclusive también económica lograr que tengamos todo ese bienestar y esa necesidad de seguir en ello.\n",
      "7.718552e-37                                                                                                                                                                                                                                                                                                                                                                                                                                                                                                                        Yo lo que creo es de que se debe de hablar de la democracia, de las elecciones, que sean limpias, que sean libres, que no haya compra de votos, que no se utilice el presupuesto para favorecer a ningún partido, a ningún candidato, que no se repartan despensas, frijol con gorgojo para adquirir los votos, que no se obligue a nadie a votar por un candidato, por un partido, que no se rellenen las urnas, que no se embaracen las urnas, como era antes, que no se falsifiquen las actas, que no haya fraude electoral en pocas palabras.\n",
      "6.965455e-37                                                                                                                                                                                                                                                                                                                                                                                                                                                                                                                                                      Y como el doctor Hugo López-Gatell, pues es el que ha estado dando la cara, informando desde hace mucho tiempo…\\nYo no creo que haya un país en el mundo, y ofrezco disculpas por decirlo, pero si no lo digo pues no se va a leer en ningún periódico, por lo que estamos viendo, ni lo vamos a escuchar en la radio, ni lo vamos a ver en la televisión, pero no creo que haya un país en el mundo en el que se haya informado más, de manera sistemática, permanente, sobre la pandemia, todos los días, no hay.\n",
      "6.895990e-37                                                                                                                                                                                                                                                                                                                                                                               Esto que es una degeneración, el que el crimen organizado promueva, tenga a sus candidatos, como si se tratara de un partido que pone a los candidatos; además, a la mala, porque cuando es una competencia entre partidos, antes, que se hacían trampa -y espero que ya eso no suceda, porque para eso estamos convocando a este acuerdo por la democracia- hacían trampa, pero entre partidos, pero ahí estaban; pero en el caso del partido del crimen organizado es ‘va a ser este y tú no te metas, ni tú, o si te metes no hagas campaña, te desapareces y, si no, atente a las consecuencias.’ Eso no, vamos a que no se le quite el derecho al pueblo de elegir a sus autoridades.\n",
      "9.718912e-38                                                                                                                                                                                                                                                                                                                                                                                                                                                               A nosotros sí nos importa mucho y vamos a hablar de que se respete el voto, de que el voto sea libre, que las elecciones sean libres y limpias, que no haya presiones para la obtención del voto, que no se compre el voto, que no se trafique con la pobreza de la gente para obtener los votos y desde luego que no se rellenen las urnas, que no se falsifiquen las actas, que no voten los difuntos, que no haya ‘carrusel’, ‘ratón loco’, todo eso que ya ustedes saben porque no se dio hace mucho, sino fue desgraciadamente algo muy socorrido durante todo el periodo neoliberal, muchos fraudes.\n",
      "2.088986e-39                 Sí, es correcto que recomendamos que las personas que tengan síntomas, síntomas respiratorios, síntomas de una infección respiratoria, fiebre, dolor de garganta, tos, estornudos, moqueo, fatiga, dolor de cabeza, si no tienen un antecedente de viaje a los sitios donde hay transmisión activa, si no tienen conocimiento de que estuvieron en contacto con una persona viajera de esos sitios que a veces no es la persona mexicana que fue afuera, si no vino el pariente, si no tienen ese conocimiento y no tienen las condiciones de riesgo para complicarse mayores de edad, mayores de 60 años, menores de cinco años, mujeres embarazadas o enfermedades crónicas que deprimen el sistema inmune, y eso incluye la enfermedad pulmonar, la enfermedad cardiaca y la diabetes, si no están en esa situación, mejor que se queden en casa porque lo más probable es que no se trate de coronavirus; y aun cuando se tratara de coronavirus, lo más probable es que va ser el 80 por ciento de personas que no van a tener complicación alguna.\n",
      "1.117838e-39                                                                                                                                                                                                                                                                                                                                                                                                                                                                                                                                                                               Es un acuerdo por la democracia para que ya no se utilice el presupuesto con propósitos electorales, que no se repartan despensas, que no se compre con dinero el voto, que no se amenace, que no se condicionen los programas sociales al voto, que no haya ‘carrusel’, ‘urnas embarazadas’, que ya no voten los finados, que no se falsifiquen las actas, todo esto que pasaba, que es una vergüenza, que tampoco veía el INE, incluso a los que están, que se hacían de la vista gorda.\n",
      "7.605222e-40                                                                                                                                                                    Hoy nos estaban informando que incluso ya se ha evaporado una cantidad de agua importantísima de la presa de La Boquilla, que nos hubiese servido para cumplir con el compromiso; sin embargo, por asuntos politiqueros, porque no lo puedo llamar de otra manera, porque ni siquiera se puede hablar de asuntos electorales y mucho menos de asuntos políticos, por querer agarrar la bandera de la defensa del agua…\\nYa todos los agricultores de Chihuahua tienen asegurada su agua, incluso hoy también se informaba que están pidiendo una prórroga para que se les entregue el agua, que no sea en este mes de octubre, sino en noviembre, o sea, no había problema de que se escaseara el agua, fue que encontraron una circunstancia que ellos pensaron favorable para politizar el asunto, para promover la candidatura de Gustavo Madero al gobierno de Chihuahua por el PAN, eso es todo.\n",
      "4.728016e-41                                                                                                                                                                                                                                                                                                                                                                                        Ah, vamos viendo la nota de la fiscalía, que esto es muy importante que se conozca, porque no se vaya a pensar que se está desatendiendo el asunto de cuidar que las elecciones sean limpias, sean libres, que no se compren los votos, que no se trafique con la pobreza de la gente, que no se entreguen despensas, que no haya amenazas, que se respete la voluntad de los ciudadanos, que queden en el basurero de la historia las prácticas del fraude que se han padecido en México desde hace siglos, que no se falsifiquen las actas, que no se rellenen las urnas, que se respete el triunfo del candidato que quiere el pueblo, mujer, hombre, sea del partido que sea.\n",
      "4.192622e-41                                                                    Vamos a trabajar con el marco jurídico actual tres años; si hace falta hacer la reforma constitucional, la emprendemos en la segunda mitad del gobierno, esto tomando en consideración de que vienen elecciones el año próximo y luego la revocación del mandato en el 22, pero si ganamos la revocación del mandato, es decir, si la gente dice que yo me quede, que no renuncie, entonces sí veríamos si se necesita lo de la reforma constitucional\\nSobre todo para dejar amarrados los cambios para que no se dé marcha atrás, que podamos dejar todo consolidado y que les cueste trabajo, como decía el presidente Juárez, que avancemos para que cuando se tenga la mala suerte, el infortunio en perder, que lo avanzado sea tanto que les cueste trabajo retrogradar, es decir, que no sea fácil; por ejemplo, que todo lo que podamos quede en la Constitución, que sea reforma constitucional para que se requieran dos terceras partes de la votación del Congreso para hacer un cambio.\n",
      "1.795890e-41                                                                                                                                                                                                                                                                  Lo que quiero es que ya en dos años no se pueda dar marcha atrás en el combate a la corrupción, es decir, que ya no puedan cambiar las leyes para que la corrupción siga como antes, considerada como delito no grave, que ya no puedan después de dos años, esté quien esté en la Presidencia, comprarse un avión de lujo de siete mil millones de pesos, que ya no puedan vivir en mansiones, que ya no puedan quitarle la pensión a los adultos mayores, que ya no puedan quitarle la pensión a las personas con discapacidad, que ya no puedan quitarle las becas a los pobres, que ya no puedan los mercaderes venderle al gobierno con sobreprecio, que ya no puedan seguir entregando los bienes de la nación y del pueblo a particulares, que ya no puedan condonar impuestos a los potentados.\n",
      "1.795110e-45                                                                                                                                                                  Es hacer un llamado a todos los ciudadanos de estos dos estados para que participen en las elecciones y que se haga valer la democracia, que haya elecciones limpias y libres, que los ciudadanos participen y que elijan libremente a sus representantes, que no haya injerencia, intervencionismo de los gobiernos, ni de gobiernos municipales ni de gobiernos estatales ni del gobierno federal; que no se compren los votos, que se termine la práctica deleznable de entregar despensas y de traficar con la pobreza de la gente para obtener votos; que se haga valer el voto libre, secreto; que no haya presiones de ninguna índole; que no haya acarreos; que no se rellenen las urnas; que los funcionarios de las mesas actúen con rectitud, con imparcialidad; que no se falsifiquen las actas; en fin, que no haya fraude electoral, que se dé un buen ejemplo de civilidad y democracia.\n"
     ]
    }
   ],
   "source": [
    "print(df.tail(n=15).to_string(index=False))"
   ]
  },
  {
   "cell_type": "markdown",
   "metadata": {},
   "source": [
    "Enseguida podemos obtener las 15 frases que tienen un sentimiento cercano a 0.5, lo cual les confiere un valor neutro, es decir que no son positivas o negativas."
   ]
  },
  {
   "cell_type": "code",
   "execution_count": 17,
   "metadata": {},
   "outputs": [
    {
     "data": {
      "text/html": [
       "<div>\n",
       "<style scoped>\n",
       "    .dataframe tbody tr th:only-of-type {\n",
       "        vertical-align: middle;\n",
       "    }\n",
       "\n",
       "    .dataframe tbody tr th {\n",
       "        vertical-align: top;\n",
       "    }\n",
       "\n",
       "    .dataframe thead th {\n",
       "        text-align: right;\n",
       "    }\n",
       "</style>\n",
       "<table border=\"1\" class=\"dataframe\">\n",
       "  <thead>\n",
       "    <tr style=\"text-align: right;\">\n",
       "      <th></th>\n",
       "      <th>sentimiento</th>\n",
       "      <th>frase</th>\n",
       "    </tr>\n",
       "  </thead>\n",
       "  <tbody>\n",
       "    <tr>\n",
       "      <th>5638</th>\n",
       "      <td>0.500993</td>\n",
       "      <td>En marzo inicia la fase 2 de pruebas allá en Cuba.</td>\n",
       "    </tr>\n",
       "    <tr>\n",
       "      <th>180003</th>\n",
       "      <td>0.500965</td>\n",
       "      <td>Y lo intentaron, porque abajo hay una gran reserva de valores culturales, morales, espirituales.</td>\n",
       "    </tr>\n",
       "    <tr>\n",
       "      <th>11369</th>\n",
       "      <td>0.500854</td>\n",
       "      <td>¿Puedes mañana hacerla?</td>\n",
       "    </tr>\n",
       "    <tr>\n",
       "      <th>129173</th>\n",
       "      <td>0.500717</td>\n",
       "      <td>Es amplia la información de hoy.</td>\n",
       "    </tr>\n",
       "    <tr>\n",
       "      <th>18743</th>\n",
       "      <td>0.500609</td>\n",
       "      <td>Demian Duarte, del canal Sonora Power, de Lobos FM y Política y RockandRoll Radio, de Sonora.</td>\n",
       "    </tr>\n",
       "    <tr>\n",
       "      <th>146421</th>\n",
       "      <td>0.500609</td>\n",
       "      <td>Presidente del Gobierno de México, Carlos Pozos, reportero de Petróleo y Energía.</td>\n",
       "    </tr>\n",
       "    <tr>\n",
       "      <th>172569</th>\n",
       "      <td>0.500490</td>\n",
       "      <td>Estuvo muy bien lo de ayer.</td>\n",
       "    </tr>\n",
       "    <tr>\n",
       "      <th>187747</th>\n",
       "      <td>0.500424</td>\n",
       "      <td>Bueno, espero haberte contestado.</td>\n",
       "    </tr>\n",
       "    <tr>\n",
       "      <th>156693</th>\n",
       "      <td>0.500360</td>\n",
       "      <td>En particular hubo un operativo muy importante en el municipio de Mezcala y el ejido de Carrizalillo, el de Huitzuco, que está en proceso, y el operativo que en estos momentos, también es del dominio público, estamos llevando a cabo en Tepecoacuilco.</td>\n",
       "    </tr>\n",
       "    <tr>\n",
       "      <th>79105</th>\n",
       "      <td>0.500323</td>\n",
       "      <td>Y es en este aniversario de la huelga de Cananea.</td>\n",
       "    </tr>\n",
       "    <tr>\n",
       "      <th>20711</th>\n",
       "      <td>0.500283</td>\n",
       "      <td>Nosotros seguiremos aquí en una ceremonia pública para comentar con nuestros compañeros, el personal de salud, los medios y en general la audiencia sobre lo que ocurra aquí.</td>\n",
       "    </tr>\n",
       "    <tr>\n",
       "      <th>89473</th>\n",
       "      <td>0.500231</td>\n",
       "      <td>En algunos lugares estamos resolviendo.</td>\n",
       "    </tr>\n",
       "    <tr>\n",
       "      <th>26165</th>\n",
       "      <td>0.500155</td>\n",
       "      <td>Hacemos del eje ambiental el factor principal en la toma de decisiones.</td>\n",
       "    </tr>\n",
       "    <tr>\n",
       "      <th>68448</th>\n",
       "      <td>0.500095</td>\n",
       "      <td>Vamos a Oaxaca, de Oaxaca a Ixtepec, Tehuantepec, Salinas, Huatulco y Puerto Escondido, o sea, el istmo, bueno, Oaxaca, Valle Central, el Istmo y la costa.</td>\n",
       "    </tr>\n",
       "    <tr>\n",
       "      <th>48828</th>\n",
       "      <td>0.500073</td>\n",
       "      <td>México es un país independiente, soberano con un pueblo extraordinario y que es respetado en el mundo, en el concierto de las naciones.</td>\n",
       "    </tr>\n",
       "    <tr>\n",
       "      <th>114435</th>\n",
       "      <td>0.500031</td>\n",
       "      <td>¿Me permite entregarle un documento?</td>\n",
       "    </tr>\n",
       "  </tbody>\n",
       "</table>\n",
       "</div>"
      ],
      "text/plain": [
       "        sentimiento  \\\n",
       "5638       0.500993   \n",
       "180003     0.500965   \n",
       "11369      0.500854   \n",
       "129173     0.500717   \n",
       "18743      0.500609   \n",
       "146421     0.500609   \n",
       "172569     0.500490   \n",
       "187747     0.500424   \n",
       "156693     0.500360   \n",
       "79105      0.500323   \n",
       "20711      0.500283   \n",
       "89473      0.500231   \n",
       "26165      0.500155   \n",
       "68448      0.500095   \n",
       "48828      0.500073   \n",
       "114435     0.500031   \n",
       "\n",
       "                                                                                                                                                                                                                                                             frase  \n",
       "5638                                                                                                                                                                                                            En marzo inicia la fase 2 de pruebas allá en Cuba.  \n",
       "180003                                                                                                                                                            Y lo intentaron, porque abajo hay una gran reserva de valores culturales, morales, espirituales.  \n",
       "11369                                                                                                                                                                                                                                      ¿Puedes mañana hacerla?  \n",
       "129173                                                                                                                                                                                                                            Es amplia la información de hoy.  \n",
       "18743                                                                                                                                                                Demian Duarte, del canal Sonora Power, de Lobos FM y Política y RockandRoll Radio, de Sonora.  \n",
       "146421                                                                                                                                                                           Presidente del Gobierno de México, Carlos Pozos, reportero de Petróleo y Energía.  \n",
       "172569                                                                                                                                                                                                                                 Estuvo muy bien lo de ayer.  \n",
       "187747                                                                                                                                                                                                                           Bueno, espero haberte contestado.  \n",
       "156693  En particular hubo un operativo muy importante en el municipio de Mezcala y el ejido de Carrizalillo, el de Huitzuco, que está en proceso, y el operativo que en estos momentos, también es del dominio público, estamos llevando a cabo en Tepecoacuilco.  \n",
       "79105                                                                                                                                                                                                            Y es en este aniversario de la huelga de Cananea.  \n",
       "20711                                                                                Nosotros seguiremos aquí en una ceremonia pública para comentar con nuestros compañeros, el personal de salud, los medios y en general la audiencia sobre lo que ocurra aquí.  \n",
       "89473                                                                                                                                                                                                                      En algunos lugares estamos resolviendo.  \n",
       "26165                                                                                                                                                                                      Hacemos del eje ambiental el factor principal en la toma de decisiones.  \n",
       "68448                                                                                                  Vamos a Oaxaca, de Oaxaca a Ixtepec, Tehuantepec, Salinas, Huatulco y Puerto Escondido, o sea, el istmo, bueno, Oaxaca, Valle Central, el Istmo y la costa.  \n",
       "48828                                                                                                                      México es un país independiente, soberano con un pueblo extraordinario y que es respetado en el mundo, en el concierto de las naciones.  \n",
       "114435                                                                                                                                                                                                                        ¿Me permite entregarle un documento?  "
      ]
     },
     "execution_count": 17,
     "metadata": {},
     "output_type": "execute_result"
    }
   ],
   "source": [
    "pd.set_option('display.max_colwidth', 800)\n",
    "df.loc[(df['sentimiento'] >= 0.500) & (df['sentimiento'] < 0.501)]\n"
   ]
  },
  {
   "cell_type": "markdown",
   "metadata": {},
   "source": [
    "En lo que se refiere a datos estadísticos, partimos del total de frases que se obtuvieron tras la aplicación del modelo, aunque se mostraron más arriba, podemos volver a realizar el conteo:"
   ]
  },
  {
   "cell_type": "code",
   "execution_count": 27,
   "metadata": {},
   "outputs": [
    {
     "data": {
      "text/plain": [
       "sentimiento    193405\n",
       "frase          193405\n",
       "dtype: int64"
      ]
     },
     "execution_count": 27,
     "metadata": {},
     "output_type": "execute_result"
    }
   ],
   "source": [
    "df.count()"
   ]
  },
  {
   "cell_type": "markdown",
   "metadata": {},
   "source": [
    "Es importante notar que las funciones de los DataFrames habitualmente muestran todas las columnas y sólo consideran los valores que no contengan datos nulos. \n",
    "\n",
    "También podemos obtener datos por columna, especificando a cuál se debe de aplicar, así podemos mostrar con más detalle la media de la columna de sentimiento.\n"
   ]
  },
  {
   "cell_type": "code",
   "execution_count": 18,
   "metadata": {},
   "outputs": [
    {
     "data": {
      "text/plain": [
       "0.10130010517067133"
      ]
     },
     "execution_count": 18,
     "metadata": {},
     "output_type": "execute_result"
    }
   ],
   "source": [
    "df['sentimiento'].mean()"
   ]
  },
  {
   "cell_type": "markdown",
   "metadata": {},
   "source": [
    "Por lo que podemos apreciar, es un valor que bajo que representa sentimiento negativo. \n",
    "\n",
    "Adicionalmente se puede filtrar los registros que tienen valores mayores a 0.5.\n"
   ]
  },
  {
   "cell_type": "code",
   "execution_count": 28,
   "metadata": {},
   "outputs": [
    {
     "data": {
      "text/plain": [
       "sentimiento    12221\n",
       "frase          12221\n",
       "dtype: int64"
      ]
     },
     "execution_count": 28,
     "metadata": {},
     "output_type": "execute_result"
    }
   ],
   "source": [
    "df[df['sentimiento'] > 0.5].count()"
   ]
  },
  {
   "cell_type": "markdown",
   "metadata": {},
   "source": [
    "Una vez hecha la operación, se aprecia que de las 193,405 frases que nos generó la aplicación del modelo, únicamente 12,221 entran en el rango que tiende al sentimiento positivo.\n",
    "\n",
    "También podemos contar las frases que tienen valores muy bajos en el nivel de sentimiento.\n"
   ]
  },
  {
   "cell_type": "code",
   "execution_count": 35,
   "metadata": {},
   "outputs": [
    {
     "data": {
      "text/plain": [
       "sentimiento    89710\n",
       "frase          89710\n",
       "dtype: int64"
      ]
     },
     "execution_count": 35,
     "metadata": {},
     "output_type": "execute_result"
    }
   ],
   "source": [
    "df[df['sentimiento'] < 0.001].count()"
   ]
  },
  {
   "cell_type": "markdown",
   "metadata": {},
   "source": [
    "Con lo que podemos observar que un porcentaje muy alto de frases caen en este supuesto, pues tenemos 89,710 de 193,405.\n",
    "\n",
    "Para que sea más visible, los DataFrames ofrecen la opción de generar gráficas, por lo que podemos generar un histograma."
   ]
  },
  {
   "cell_type": "code",
   "execution_count": 31,
   "metadata": {},
   "outputs": [
    {
     "data": {
      "text/plain": [
       "<AxesSubplot:ylabel='Frequency'>"
      ]
     },
     "execution_count": 31,
     "metadata": {},
     "output_type": "execute_result"
    },
    {
     "data": {
      "image/png": "[encoded data removed]",
      "text/plain": [
       "<Figure size 432x288 with 1 Axes>"
      ]
     },
     "metadata": {
      "needs_background": "light"
     },
     "output_type": "display_data"
    }
   ],
   "source": [
    "df.sentimiento.plot.hist(color=\"#57b8ff\")"
   ]
  },
  {
   "cell_type": "markdown",
   "metadata": {},
   "source": [
    "O una gráfica de densidad."
   ]
  },
  {
   "cell_type": "code",
   "execution_count": 32,
   "metadata": {},
   "outputs": [
    {
     "data": {
      "text/plain": [
       "<AxesSubplot:ylabel='Density'>"
      ]
     },
     "execution_count": 32,
     "metadata": {},
     "output_type": "execute_result"
    },
    {
     "data": {
      "image/png": "[encoded data removed]",
      "text/plain": [
       "<Figure size 432x288 with 1 Axes>"
      ]
     },
     "metadata": {
      "needs_background": "light"
     },
     "output_type": "display_data"
    }
   ],
   "source": [
    "df.sentimiento.plot.density(color=\"#fe6847\")"
   ]
  },
  {
   "cell_type": "markdown",
   "metadata": {},
   "source": [
    "Ambas gráficas nos muestran que la mayor parte de las frases se concentran en el espectro negativo."
   ]
  },
  {
   "cell_type": "markdown",
   "metadata": {},
   "source": [
    "Como se había mencionado anteriormente, existen diferentes modelos pre entrenados para realizar el análisis de sentimientos; a continuación, se muestran los resultados de aplicar una segunda opción. Este paquete se llama “pysentimiento” y está basado en la tecnología de “transformer” desarrollada por HuggingFace. Debido al tiempo que tarda en procesarse se muestra el código utilizado y se ha guardado la información en un archivo “pickle” para poder facilitar su posterior tratamiento. Para la ejecución con este modelo, en lugar de utilizar el archivo de texto se decidió conectar directamente con una base de datos MySQL."
   ]
  },
  {
   "cell_type": "code",
   "execution_count": null,
   "metadata": {},
   "outputs": [],
   "source": [
    "import pandas as pd\n",
    "import mysql.connector as msql\n",
    "import regex\n",
    "from dynaconf import Dynaconf\n",
    "from nltk import sent_tokenize, word_tokenize\n",
    "from collections import Counter\n",
    "from pysentimiento import SentimentAnalyzer, EmotionAnalyzer\n",
    "\n",
    "# Obtener archivo de texto a utilizar como fuente\n",
    "db_settings = Dynaconf(load_dotenv=True, envvar_prefix=\"DB\")\n",
    "\n",
    "# Crear el query\n",
    "query = \"SELECT id, fechapub, contenido FROM pfm_conferencias order by fechapub asc\"\n",
    "\n",
    "# Conectar con la BD\n",
    "conn = msql.connect(user=db_settings.USER, password=db_settings.PWD, host=db_settings.HOST, port=db_settings.PORT, database=db_settings.NAME)\n",
    "    \n",
    "# Generar el cursor para almacenar los resultados\n",
    "data_cur = conn.cursor()\n",
    "\n",
    "    # Ejecutar el query para obtener el contenido de la conferencia de la fecha indicada\n",
    "data_cur.execute(query)\n",
    "\n",
    "# Guardar los resultados para limpiarlos\n",
    "registros = pd.DataFrame(data_cur.fetchall())\n",
    "\n",
    "conn.close()\n",
    "\n",
    "print(\"Finalizada extracción BD\")\n",
    "\n",
    "sentences = []\n",
    "for row in registros.itertuples():\n",
    "    for sentence in sent_tokenize(str(row[3])):\n",
    "        sentences.append((row[1],row[2], sentence))\n",
    "\n",
    "frases_completo = pd.DataFrame(sentences, columns=['ID', 'fechapub', 'frase'])\n",
    "\n",
    "print (\"Fin tokenización\")\n",
    "\n",
    "sentanalyzer = SentimentAnalyzer(lang=\"es\")\n",
    "emoanalyzer = EmotionAnalyzer(lang=\"es\")\n",
    "\n",
    "print(\"Finalizada carga de modelos\")\n",
    "\n",
    "sentimiento = []\n",
    "emotion = []\n",
    "i = 0\n",
    "\n",
    "print(\"Iniciar iteración de análisis, Número de fila\")\n",
    "\n",
    "for row in frases_completo.itertuples():\n",
    "    sentimiento.append(str(sentanalyzer.predict(row[3])))\n",
    "    emotion.append(str(emoanalyzer.predict(row[3])))\n",
    "    i+=1\n",
    "    print(i)\n",
    "\n",
    "frases_completo[\"sentimiento\"] = sentimiento\n",
    "frases_completo[\"emocion\"] = emotion\n",
    "\n",
    "print(\"Grabar pickle\")\n",
    "\n",
    "frases_completo.to_pickle(\"./palabras_emocion.pkl\")"
   ]
  },
  {
   "cell_type": "markdown",
   "metadata": {},
   "source": [
    "A pesar de que la ejecución con este paquete fue mucho más lenta que el anterior, tiene la ventaja de ofrecer también el análisis de emociones. El archivo “Pickle” generado tiene los resultados, pero “pysentimiento” los devuelve en un formato que no nos permite tratarlos: \n",
    "\n",
    "    output=NEU, NEU: 0.938, POS: 0.061, NEG: 0.001\t\n",
    "    output=others, others: 0.986, joy: 0.005, fear: 0.003, surprise: 0.002, sadness: 0.002, anger: 0.002, disgust: 0.001\n",
    "\n",
    "Para evitar este problema, podemos hacer transformaciones al archivo y pasar los resultados a sus propias columnas, para ello es el siguiente código."
   ]
  },
  {
   "cell_type": "code",
   "execution_count": null,
   "metadata": {},
   "outputs": [],
   "source": [
    "import pandas as pd\n",
    "\n",
    "frases = pd.read_pickle(\"./palabras_emocion.pkl\")\n",
    "\n",
    "frases['sentimiento'] = frases['sentimiento'].str.replace('SentimentOutput', '')\n",
    "frases['sentimiento'] = frases['sentimiento'].str.replace('probas=', '')\n",
    "frases['sentimiento'] = frases['sentimiento'].str.replace('(', '').str.replace('{','').str.replace(')', '').str.replace('}','')\n",
    "\n",
    "frases['emocion'] = frases['emocion'].str.replace('EmotionOutput', '')\n",
    "frases['emocion'] = frases['emocion'].str.replace('probas=', '')\n",
    "frases['emocion'] = frases['emocion'].str.replace('(', '').str.replace('{','').str.replace(')', '').str.replace('}','')\n",
    "\n",
    "frases[['sent_winner', 'sent_prob1', 'sent_prob2', 'sent_prob3']] = frases['sentimiento'].str.split(', ', expand=True)\n",
    "frases[['emo_winner', 'emo_prob1', 'emo_prob2', 'emo_prob3', 'emo_prob4', 'emo_prob5', 'emo_prob6', 'emo_prob7']] = frases['emocion'].str.split(', ', expand=True)\n",
    "\n",
    "frases[['sent_winner', 'sent_winner_value']] = frases['sent_winner'].str.split('=', expand=True)\n",
    "frases[['sent_prob1', 'sent_prob1_value']] = frases['sent_prob1'].str.split(': ', expand=True)\n",
    "frases[['sent_prob2', 'sent_prob2_value']] = frases['sent_prob2'].str.split(': ', expand=True)\n",
    "frases[['sent_prob3', 'sent_prob3_value']] = frases['sent_prob3'].str.split(': ', expand=True)\n",
    "\n",
    "frases[['emo_winner', 'emo_winner_value']] = frases['emo_winner'].str.split('=', expand=True)\n",
    "frases[['emo_prob1', 'emo_prob1_value']] = frases['emo_prob1'].str.split(': ', expand=True)\n",
    "frases[['emo_prob2', 'emo_prob2_value']] = frases['emo_prob2'].str.split(': ', expand=True)\n",
    "frases[['emo_prob3', 'emo_prob3_value']] = frases['emo_prob3'].str.split(': ', expand=True)\n",
    "frases[['emo_prob4', 'emo_prob4_value']] = frases['emo_prob4'].str.split(': ', expand=True)\n",
    "frases[['emo_prob5', 'emo_prob5_value']] = frases['emo_prob5'].str.split(': ', expand=True)\n",
    "frases[['emo_prob6', 'emo_prob6_value']] = frases['emo_prob6'].str.split(': ', expand=True)\n",
    "frases[['emo_prob7', 'emo_prob7_value']] = frases['emo_prob7'].str.split(': ', expand=True)\n",
    "\n",
    "frases.to_pickle(\"SentEmo.pkl\")"
   ]
  },
  {
   "cell_type": "markdown",
   "metadata": {},
   "source": [
    "Las adecuaciones realizadas, se han guardado nuevamente en formato “Pickle” a fin de evitar hacerlas en cada ejecución. Ahora podemos cargar el archivo “pickle” a un nuevo dataframe."
   ]
  },
  {
   "cell_type": "code",
   "execution_count": 12,
   "metadata": {},
   "outputs": [],
   "source": [
    "import pandas as pd\n",
    "\n",
    "frases = pd.read_pickle(\"SentEmo.pkl\")"
   ]
  },
  {
   "cell_type": "markdown",
   "metadata": {},
   "source": [
    "Y podemos crear gráficas a partir de las diferentes columnas."
   ]
  },
  {
   "cell_type": "code",
   "execution_count": 11,
   "metadata": {},
   "outputs": [
    {
     "data": {
      "image/png": "[encoded data removed]",
      "text/plain": [
       "<Figure size 432x288 with 1 Axes>"
      ]
     },
     "metadata": {
      "needs_background": "light"
     },
     "output_type": "display_data"
    }
   ],
   "source": [
    "bar_data = frases[\"sent_winner_value\"].value_counts()\n",
    "\n",
    "grafica = bar_data.plot.bar(x=bar_data[0], y=bar_data[1])"
   ]
  },
  {
   "cell_type": "markdown",
   "metadata": {},
   "source": [
    "Como resultado podemos notar que en este nuevo modelo se considera que la mayoría de las frases son neutras, a diferencia del anterior que las consideraba negativas."
   ]
  },
  {
   "cell_type": "markdown",
   "metadata": {},
   "source": [
    "En lo que se refiere al análisis de emociones, podemos mostrar también una gráfica con los resultados ofrecidos por el modelo."
   ]
  },
  {
   "cell_type": "code",
   "execution_count": 10,
   "metadata": {},
   "outputs": [
    {
     "data": {
      "image/png": "[encoded data removed]",
      "text/plain": [
       "<Figure size 432x288 with 1 Axes>"
      ]
     },
     "metadata": {
      "needs_background": "light"
     },
     "output_type": "display_data"
    }
   ],
   "source": [
    "emo_data = frases.emo_winner_value.value_counts()\n",
    "\n",
    "grafica = emo_data.plot.bar(x=emo_data[0], y=emo_data[1])"
   ]
  },
  {
   "cell_type": "markdown",
   "metadata": {},
   "source": [
    "Al igual que en el caso anterior, la mayoría de las emociones detectadas entran en la categoría de “otras”, es decir que no encuadran en las categorías predefinidas.\n",
    "\n",
    "Una ventaja que presenta “pysentimiento” frente a “sentiment_analysis_spanish” es que está basado en “BETO” que a su vez es un modelo BERT entrenado en español. Esto permite que se pueda hacer una afinación (“fine tunning”) con los métodos que ofrece “transformer” para mejorar su entrenamiento a partir de los datos que se tienen. Sin embargo, dicho entrenamiento requiere mayor tiempo para su desarrollo y está fuera del alcance del presente proyecto, pues la meta era aplicar un modelo pre entrenado."
   ]
  }
 ],
 "metadata": {
  "interpreter": {
   "hash": "7c74f9b8ed0294e50a2d408104c9a890789ceb0b369394d83de8a95f43e9b221"
  },
  "kernelspec": {
   "display_name": "Python 3",
   "language": "python",
   "name": "python3"
  },
  "language_info": {
   "codemirror_mode": {
    "name": "ipython",
    "version": 3
   },
   "file_extension": ".py",
   "mimetype": "text/x-python",
   "name": "python",
   "nbconvert_exporter": "python",
   "pygments_lexer": "ipython3",
   "version": "3.9.5"
  }
 },
 "nbformat": 4,
 "nbformat_minor": 4
}
